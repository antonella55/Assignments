{
 "cells": [
  {
   "cell_type": "markdown",
   "metadata": {},
   "source": [
    "# Fish Report using Web Scraping"
   ]
  },
  {
   "cell_type": "markdown",
   "metadata": {},
   "source": [
    "**The Whale shark**\n",
    "\n",
    "This is the shell script used to find information on the whale shark:\n",
    "\n",
    "   *curl -s 'http://fishbase.us/summary/SpeciesSummary.php?ID=2081&AT=whale+shark' > whaleshark.html*\n",
    "\n",
    "1)The maximum length of the whale shark is 1,700 cm \n",
    "\n",
    "*grep \"Max length\" whaleshark.html*\n",
    "\n",
    "2)The whale shark has a very high vulnerability\n",
    "\n",
    "*grep Vulnerability whaleshark.html*"
   ]
  },
  {
   "cell_type": "markdown",
   "metadata": {},
   "source": [
    "**List of Dangerous Fish around the Channel Islands**"
   ]
  },
  {
   "cell_type": "markdown",
   "metadata": {},
   "source": [
    "This is the shell script used to find information:\n",
    "\n",
    "*curl -s \"http://fishbase.us/country/CountryChecklist.php?c_code=830&vhabitat=dangerous&csub_code=\" > Channel_Islands_dangerous*\n",
    "\n",
    "1)Four of the dangerous fish are classified as 'traumatogenic': Basking Shark, Porbeagle, Mediterranean moray, scorpionfish\n",
    "\n",
    "*grep traumatogenic Channel_Islands_dangerous*\n",
    "\n",
    "2)There are 12 species currently listed in the island\n",
    "\n",
    "*grep species Channel_Islands_dangerous*"
   ]
  },
  {
   "cell_type": "code",
   "execution_count": null,
   "metadata": {
    "collapsed": true
   },
   "outputs": [],
   "source": []
  }
 ],
 "metadata": {
  "anaconda-cloud": {},
  "kernelspec": {
   "display_name": "Python [conda root]",
   "language": "python",
   "name": "conda-root-py"
  },
  "language_info": {
   "codemirror_mode": {
    "name": "ipython",
    "version": 3
   },
   "file_extension": ".py",
   "mimetype": "text/x-python",
   "name": "python",
   "nbconvert_exporter": "python",
   "pygments_lexer": "ipython3",
   "version": "3.5.2"
  }
 },
 "nbformat": 4,
 "nbformat_minor": 2
}
