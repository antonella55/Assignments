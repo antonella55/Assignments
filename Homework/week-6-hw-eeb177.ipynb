{
 "cells": [
  {
   "cell_type": "markdown",
   "metadata": {},
   "source": [
    "# Part 1: Code Academy\n",
    "**These are the screenshots from the code academy assignment**\n",
    "##### I have the path to the image, but it wont show up?\n",
    "![python syntax] (/home/eeb177-student/Desktop/EEB-177/Homework/week6screenshot/python1.png)\n",
    "\n",
    "![string and console] (/home/eeb177-student/Desktop/EEB-177/Homework/week6screenshot/python5.png)\n",
    "\n",
    "![conditionals and control] (/home/eeb177-student/Desktop/EEB-177/Homework/week6screenshot/python7.png)\n",
    "\n",
    "![Functions] (/home/eeb177-student/Desktop/EEB-177/Homework/week6screenshot/pFunctions2.png)\n",
    "\n",
    "![pythonlists and dictionaries] (/home/eeb177-student/Desktop/EEB-177/Homework/week6screenshot/plistanddict.png)\n",
    "\n",
    "![lists and functions] (/home/eeb177-student/Desktop/EEB-177/Homework/week6screenshot/listandfunctions.png)\n",
    "\n",
    "![loops] (/home/eeb177-student/Desktop/EEB-177/Homework/week6screenshot/Loops.png)\n",
    "\n",
    "![practice perfect] (/home/eeb177-student/Desktop/EEB-177/Homework/week6screenshot/practiceperfect.png)"
   ]
  },
  {
   "cell_type": "markdown",
   "metadata": {},
   "source": []
  },
  {
   "cell_type": "code",
   "execution_count": null,
   "metadata": {
    "collapsed": true
   },
   "outputs": [],
   "source": []
  }
 ],
 "metadata": {
  "anaconda-cloud": {},
  "kernelspec": {
   "display_name": "Python [conda root]",
   "language": "python",
   "name": "conda-root-py"
  },
  "language_info": {
   "codemirror_mode": {
    "name": "ipython",
    "version": 3
   },
   "file_extension": ".py",
   "mimetype": "text/x-python",
   "name": "python",
   "nbconvert_exporter": "python",
   "pygments_lexer": "ipython3",
   "version": "3.5.2"
  }
 },
 "nbformat": 4,
 "nbformat_minor": 2
}
