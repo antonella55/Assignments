{
 "cells": [
  {
   "cell_type": "markdown",
   "metadata": {},
   "source": [
    "# Part 1: Code Academy\n",
    "**These are the screenshots from the code academy assignment**\n",
    "![python syntax] (/home/eeb177-student/Pictures/python1.png)\n",
    "\n",
    "![string and console] (/home/eeb177-student/Pictures/python5.png)\n",
    "\n",
    "![conditionals and control] (/home/eeb177-student/Pictures/python7.png)\n",
    "![Functions] (/home/eeb177-student/Pictures/pFunctions2.png)\n",
    "![pythonlists and dictionaries] (/home/eeb177-student/Pictures/plistanddict.png)\n",
    "![lists and functions]\n",
    "![loops]\n",
    "![practice perfect]"
   ]
  },
  {
   "cell_type": "markdown",
   "metadata": {},
   "source": []
  },
  {
   "cell_type": "code",
   "execution_count": null,
   "metadata": {
    "collapsed": true
   },
   "outputs": [],
   "source": []
  }
 ],
 "metadata": {
  "anaconda-cloud": {},
  "kernelspec": {
   "display_name": "Python [conda root]",
   "language": "python",
   "name": "conda-root-py"
  },
  "language_info": {
   "codemirror_mode": {
    "name": "ipython",
    "version": 3
   },
   "file_extension": ".py",
   "mimetype": "text/x-python",
   "name": "python",
   "nbconvert_exporter": "python",
   "pygments_lexer": "ipython3",
   "version": "3.5.2"
  }
 },
 "nbformat": 4,
 "nbformat_minor": 2
}
