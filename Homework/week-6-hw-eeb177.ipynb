{
 "cells": [
  {
   "cell_type": "markdown",
   "metadata": {},
   "source": [
    "# Part 1: Code Academy\n",
    "**These are the screenshots from the code academy assignment**\n",
    "##### I have the path to the image, but it wont show up?\n",
    "![python syntax] (/home/eeb177-student/Desktop/EEB-177/Homework/week6screenshot/python1.png)\n",
    "\n",
    "![string and console] (/home/eeb177-student/Desktop/EEB-177/Homework/week6screenshot/python5.png)\n",
    "\n",
    "![conditionals and control] (/home/eeb177-student/Desktop/EEB-177/Homework/week6screenshot/python7.png)\n",
    "\n",
    "![Functions] (/home/eeb177-student/Desktop/EEB-177/Homework/week6screenshot/pFunctions2.png)\n",
    "\n",
    "![pythonlists and dictionaries] (/home/eeb177-student/Desktop/EEB-177/Homework/week6screenshot/plistanddict.png)\n",
    "\n",
    "![lists and functions] (/home/eeb177-student/Desktop/EEB-177/Homework/week6screenshot/listandfunctions.png)\n",
    "\n",
    "![loops] (/home/eeb177-student/Desktop/EEB-177/Homework/week6screenshot/Loops.png)\n",
    "\n",
    "![practice perfect] (/home/eeb177-student/Desktop/EEB-177/Homework/week6screenshot/practiceperfect.png)"
   ]
  },
  {
   "cell_type": "markdown",
   "metadata": {},
   "source": []
  },
  {
   "cell_type": "markdown",
   "metadata": {
    "collapsed": true
   },
   "source": [
    "# Part 2 Python for Biologist ch8\n",
    "\n",
    "**DNA translation to protein**\n",
    "\n",
    "set dna= \"some sequence\"\n",
    "\n",
    "**now lets split the sequence into codon triplets and make a list of codons**\n",
    "\n",
    "for bases in dna:\n",
    "    codon=base1+base2+base3\n",
    "    \n",
    " **then so on until all codons have been grouped in threes**\n",
    "    print(\"codon is \" + codon)\n",
    "    \n",
    "**make a dictionary of the codon and amino acid from the url**\n",
    "aminoacid={'codon':'aminoacid', 'codon2':'aminoacid2'...}\n",
    "\n",
    "**fix previous codon loop to search through the dict.keys for the value of each codon**\n",
    "\n"
   ]
  },
  {
   "cell_type": "code",
   "execution_count": 3,
   "metadata": {
    "collapsed": false
   },
   "outputs": [
    {
     "name": "stdout",
     "output_type": "stream",
     "text": [
      "one codon is ATG\n",
      "one codon is TTC\n",
      "one codon is GGT\n",
      "one codon is CTA\n",
      "one codon is AGC\n"
     ]
    }
   ],
   "source": [
    "dna='ATGTTCGGTCTAAGCCT'\n",
    "\n",
    "last_codon_start=len(dna)-2 #fixes the start position of last codon\n",
    "\n",
    "for base in range(0,last_codon_start,3): #this range says from base1 to 3rd to last base, grouped in 3\n",
    "    codon=dna[base:base+3]\n",
    "    print(\"one codon is \" + codon)"
   ]
  },
  {
   "cell_type": "code",
   "execution_count": 4,
   "metadata": {
    "collapsed": true
   },
   "outputs": [],
   "source": [
    "#the codon to amino acid conversion table\n",
    "gencode = {\n",
    "'ATA':'I', 'ATC':'I',\n",
    "'ACA':'T', 'ACC':'T',\n",
    "'AAC':'N', 'AAT':'N',\n",
    "'AGC':'S', 'AGT':'S',\n",
    "'CTA':'L', 'CTC':'L',\n",
    "'CCA':'P', 'CCC':'P',\n",
    "'CAC':'H', 'CAT':'H',\n",
    "'CGA':'R', 'CGC':'R',\n",
    "'GTA':'V', 'GTC':'V',\n",
    "'GCA':'A', 'GCC':'A',\n",
    "'GAC':'D', 'GAT':'D',\n",
    "'GGA':'G', 'GGC':'G',\n",
    "'TCA':'S', 'TCC':'S',\n",
    "'TTC':'F', 'TTT':'F',\n",
    "'TAC':'Y', 'TAT':'Y',\n",
    "'TGC':'C', 'TGT':'C',\n",
    "'ATT':'I',\n",
    "'ACG':'T',\n",
    "'AAA':'K',\n",
    "'AGA':'R',\n",
    "'CTG':'L',\n",
    "'CCG':'P',\n",
    "'CAA':'Q',\n",
    "'CGG':'R',\n",
    "'GTG':'V',\n",
    "'GCG':'A',\n",
    "'GAA':'E',\n",
    "'GGG':'G',\n",
    "'TCG':'S',\n",
    "'TTA':'L',\n",
    "'TAA':'_',\n",
    "'TGA':'_',\n",
    "'ATG':'M',\n",
    "'ACT':'T',\n",
    "'AAG':'K',\n",
    "'AGG':'R',\n",
    "'CTT':'L',\n",
    "'CCT':'P',\n",
    "'CAG':'Q',\n",
    "'CGT':'R',\n",
    "'GTT':'V',\n",
    "'GCT':'A',\n",
    "'GAG':'E',\n",
    "'GGT':'G',\n",
    "'TCT':'S',\n",
    "'TTG':'L',\n",
    "'TAG':'_',\n",
    "'TGG':'W'}"
   ]
  },
  {
   "cell_type": "code",
   "execution_count": 6,
   "metadata": {
    "collapsed": false
   },
   "outputs": [
    {
     "name": "stdout",
     "output_type": "stream",
     "text": [
      "one codon is ATG\n",
      " the amino acid is M\n",
      "one codon is TTC\n",
      " the amino acid is F\n",
      "one codon is GGT\n",
      " the amino acid is G\n",
      "one codon is CTA\n",
      " the amino acid is L\n",
      "one codon is AGC\n",
      " the amino acid is S\n"
     ]
    }
   ],
   "source": [
    "for base in range(0,last_codon_start,3):\n",
    "    codon=dna[base:base+3]\n",
    "    aa=gencode.get(codon)\n",
    "    print(\"one codon is \" + codon)\n",
    "    print(\"the amino acid is \" + aa)"
   ]
  },
  {
   "cell_type": "code",
   "execution_count": 7,
   "metadata": {
    "collapsed": false
   },
   "outputs": [
    {
     "name": "stdout",
     "output_type": "stream",
     "text": [
      "the protein sequence is M\n",
      "the protein sequence is MF\n",
      "the protein sequence is MFG\n",
      "the protein sequence is MFGL\n",
      "the protein sequence is MFGLS\n"
     ]
    }
   ],
   "source": [
    "#to make a consecutive amino acid list\n",
    "protein=\"\"\n",
    "for base in range(0,last_codon_start,3):\n",
    "    codon=dna[base:base+3]\n",
    "    aa=gencode.get(codon)\n",
    "    protein=protein + aa\n",
    "    print(\"the protein sequence is \" + protein)"
   ]
  },
  {
   "cell_type": "code",
   "execution_count": null,
   "metadata": {
    "collapsed": true
   },
   "outputs": [],
   "source": []
  }
 ],
 "metadata": {
  "anaconda-cloud": {},
  "kernelspec": {
   "display_name": "Python [conda root]",
   "language": "python",
   "name": "conda-root-py"
  },
  "language_info": {
   "codemirror_mode": {
    "name": "ipython",
    "version": 3
   },
   "file_extension": ".py",
   "mimetype": "text/x-python",
   "name": "python",
   "nbconvert_exporter": "python",
   "pygments_lexer": "ipython3",
   "version": "3.5.2"
  }
 },
 "nbformat": 4,
 "nbformat_minor": 2
}
