{
 "cells": [
  {
   "cell_type": "markdown",
   "metadata": {},
   "source": [
    "# Lightning Talk Schedule for Tuesday, March 14th\n",
    "\n",
    "09:30 Kelsey Jiang--selachii diversity-how many species have survived each extinction\n",
    "\n",
    "09:34 Dominique Castro--Canis-is it canis as in the species or the genus\n",
    "\n",
    "09:38 Linna Sun--proboscidea-elephant-what makes them proboscidea\n",
    "\n",
    "09:42 Ashen Parikh--India and america cooperation/defect-via online games-what gave you inspiration for this project \n",
    "\n",
    "09:46 Matthew Muia--california valley oak-common garden experiments for growth;\n",
    "\n",
    "09:50 Antonella Gonzalez-(me)\n",
    "\n",
    "09:54 Yee Chau--squamata-\n",
    "\n",
    "09:58 Kristen Lee--sloths-how did they move from tropics\n",
    "\n",
    "10:02 Madison Downing--mammals and birds-where do they overlap most in location\n",
    "\n",
    "10:06 Youstina Salama--haplorhini richness-what do you think may have influenced the richness\n",
    "\n",
    "10:10 Jeremy Wadowski--heart rate and threshold for traithletes-are most people under their max\n",
    "\n",
    "10:14 Mehdi Nojoumi--avian athlerosclerosis-what is that center species\n",
    "\n",
    "10:18 Junghoon Kim--circadian rythmof german cockroach under diff lights-whats the possible use for this data-nocturnal species\n",
    "\n",
    "10:22 Dustin Wong--feliformia(catlike)-were you able to figure out about where on the timeline that sabertooth cat appeared? was it too small\n",
    "\n",
    "10:26 Hyein Kil--bird native to north amer with asian flu strain-asian bird diverged from american how did they migrate?"
   ]
  },
  {
   "cell_type": "code",
   "execution_count": null,
   "metadata": {
    "collapsed": true
   },
   "outputs": [],
   "source": []
  }
 ],
 "metadata": {
  "anaconda-cloud": {},
  "kernelspec": {
   "display_name": "Python [conda root]",
   "language": "python",
   "name": "conda-root-py"
  },
  "language_info": {
   "codemirror_mode": {
    "name": "ipython",
    "version": 3
   },
   "file_extension": ".py",
   "mimetype": "text/x-python",
   "name": "python",
   "nbconvert_exporter": "python",
   "pygments_lexer": "ipython3",
   "version": "3.5.2"
  }
 },
 "nbformat": 4,
 "nbformat_minor": 2
}
