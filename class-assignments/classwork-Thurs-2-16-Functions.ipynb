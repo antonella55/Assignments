{
 "cells": [
  {
   "cell_type": "markdown",
   "metadata": {},
   "source": [
    "# Writing Functions"
   ]
  },
  {
   "cell_type": "code",
   "execution_count": null,
   "metadata": {
    "collapsed": true
   },
   "outputs": [],
   "source": [
    "head , export #to make dummy files of csv for the project to start making functions, see ch2 in python4biologist"
   ]
  },
  {
   "cell_type": "code",
   "execution_count": 11,
   "metadata": {
    "collapsed": false
   },
   "outputs": [],
   "source": [
    "#this is for the homework of last week\n",
    "nature_birds = {}\n",
    "ff= open(\"formatted_nature21074-f1.csv\", \"r\", encoding=\"ISO-8859-15\") #the encoding thing fixed the problem\n",
    "ss=ff.readlines()[1:] #brakets are doing? grabing just the second item (no headers) in the list to the rest of the file\n",
    "#readlines is a function that works on file objects; splits the whole file on the end of line delimiter \n",
    "#and sticking each line into a list; each row is an element of the list\n",
    "#ss=ff.readlines()\n",
    "#print(ss)\n",
    "for line in ss: #the for loop is itterating over the container\n",
    "    sp=line.split(\",\")[0]\n",
    "    fam=line.split(\",\")[2]\n",
    "    nature_birds[sp]=fam\n",
    "ff.close()"
   ]
  },
  {
   "cell_type": "code",
   "execution_count": 34,
   "metadata": {
    "collapsed": false
   },
   "outputs": [],
   "source": [
    "def make_bird_dict(filename):\n",
    "    #this function opens the data file from nature and extracts the species and family as a dictionary#initialize empty dictionary\n",
    "    birdDict={}\n",
    "    fobj=open(filename, \"r\", encoding=\"ISO-8859-15\")#open the file;\n",
    "    all_records=fobj.readlines()[2:] #read file;this is a list;lines in the file are the elements of the list\n",
    "    #stick species and family into birdDict\n",
    "    for line in all_records:\n",
    "        record_elements = line.split(\",\")\n",
    "        species = record_elements[0] # taking elements of list and split lines on comma; making another list; [0] is grabing first element\n",
    "        family = record_elements[2]\n",
    "        birdDict[species] = family\n",
    "    return birdDict"
   ]
  },
  {
   "cell_type": "code",
   "execution_count": 32,
   "metadata": {
    "collapsed": false
   },
   "outputs": [
    {
     "data": {
      "text/plain": [
       "[1, 3, 5, 6, 7]"
      ]
     },
     "execution_count": 32,
     "metadata": {},
     "output_type": "execute_result"
    }
   ],
   "source": [
    "temp =[3,5,1,6,7]\n",
    "temp.sort()\n",
    "temp"
   ]
  },
  {
   "cell_type": "code",
   "execution_count": 56,
   "metadata": {
    "collapsed": false
   },
   "outputs": [
    {
     "name": "stdout",
     "output_type": "stream",
     "text": [
      "family of Abeillia_abeillei is Trochilidae\n"
     ]
    }
   ],
   "source": [
    "birds = make_bird_dict(\"formatted_nature21074-f1.csv\")#but first capture the object \n",
    "species = list(birds.keys()) #sort the species\n",
    "#sorted(species) #sorted can be called on any type of container;leaves the original unchaged\n",
    "species.sort() #internally sorts the original forever\n",
    "species[0] #gives me the first species sorted alphabetically from all the keys \n",
    "\n",
    "first_species = species [0] #this is one method of printing out species belongs to this family\n",
    "first_fam = birds[first_species]\n",
    "#print( \"family of \" + first_species + \" is \" + first_fam)\n",
    "\n",
    "print(\"family of \" + species[0] + \" is \" + birds[species[0]]) #this is the other method of doing the same thing"
   ]
  },
  {
   "cell_type": "code",
   "execution_count": 58,
   "metadata": {
    "collapsed": false
   },
   "outputs": [
    {
     "ename": "SyntaxError",
     "evalue": "unexpected EOF while parsing (<ipython-input-58-2778be9b1c48>, line 2)",
     "output_type": "error",
     "traceback": [
      "\u001b[0;36m  File \u001b[0;32m\"<ipython-input-58-2778be9b1c48>\"\u001b[0;36m, line \u001b[0;32m2\u001b[0m\n\u001b[0;31m    #print(item)\u001b[0m\n\u001b[0m                ^\u001b[0m\n\u001b[0;31mSyntaxError\u001b[0m\u001b[0;31m:\u001b[0m unexpected EOF while parsing\n"
     ]
    }
   ],
   "source": [
    "for item in birds.items():\n",
    "    #print(item)"
   ]
  },
  {
   "cell_type": "code",
   "execution_count": 63,
   "metadata": {
    "collapsed": false
   },
   "outputs": [
    {
     "name": "stdout",
     "output_type": "stream",
     "text": [
      "I own 2 dogs\n",
      "I own dog 4s\n"
     ]
    }
   ],
   "source": [
    "def outOfOrder(number, pet):\n",
    "    print(\"I own {} {}s\".format(number, pet))\n",
    "    \n",
    "outOfOrder(2, \"dog\")\n",
    "outOfOrder(\"dog\", 4)"
   ]
  },
  {
   "cell_type": "code",
   "execution_count": 64,
   "metadata": {
    "collapsed": false
   },
   "outputs": [
    {
     "name": "stdout",
     "output_type": "stream",
     "text": [
      "I own 2 dogs\n",
      "I own 3 dogs\n"
     ]
    }
   ],
   "source": [
    "#to avoid this problem we simply tell it which value belongs to which variable\n",
    "outOfOrder(number=2, pet=\"dog\")\n",
    "#same as\n",
    "outOfOrder(pet=\"dog\", number=3)"
   ]
  },
  {
   "cell_type": "code",
   "execution_count": null,
   "metadata": {
    "collapsed": true
   },
   "outputs": [],
   "source": []
  }
 ],
 "metadata": {
  "anaconda-cloud": {},
  "kernelspec": {
   "display_name": "Python [conda root]",
   "language": "python",
   "name": "conda-root-py"
  },
  "language_info": {
   "codemirror_mode": {
    "name": "ipython",
    "version": 3
   },
   "file_extension": ".py",
   "mimetype": "text/x-python",
   "name": "python",
   "nbconvert_exporter": "python",
   "pygments_lexer": "ipython3",
   "version": "3.5.2"
  }
 },
 "nbformat": 4,
 "nbformat_minor": 2
}
