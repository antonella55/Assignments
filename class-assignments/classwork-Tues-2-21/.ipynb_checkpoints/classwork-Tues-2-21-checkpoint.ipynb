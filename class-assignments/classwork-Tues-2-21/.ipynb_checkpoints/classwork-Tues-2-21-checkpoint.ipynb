{
 "cells": [
  {
   "cell_type": "markdown",
   "metadata": {},
   "source": [
    "# Whats in the Files\n",
    "\n",
    "** To open the .doc file use see name.doc**\n",
    "\n",
    "1) each row in cocoli.txt contains a single record for each tree censused (tag number, species code, x and y coordinate...)\n",
    "\n",
    "2) each row in cocolisp.txt represents a genus, species and family for each species code (the complete species name)\n"
   ]
  },
  {
   "cell_type": "markdown",
   "metadata": {},
   "source": [
    "**For individual 11**\n",
    "\n",
    "1) what doe the entry in multi2 mean? the number of stems the plant has at 1.3m at the second census date is 4\n",
    "\n",
    "2) what does dbh2 refer to? measurement from census 2 of diameter at 1.3m for biggest stem is 69 mm\n",
    "\n",
    "3) How can we find the genus and species name of the record? using spcode look it up in cocolisp.txt using grep \n",
    "\n",
    "4) Calycophyllum candidissimum Rubiaceae"
   ]
  },
  {
   "cell_type": "markdown",
   "metadata": {},
   "source": [
    "*Looking at dbh measurements we see that there is a shrinking over time? maybe due to human error or did it actually shrink*"
   ]
  },
  {
   "cell_type": "markdown",
   "metadata": {},
   "source": [
    "1) What happend biologicaly to individual 1 btwn 1994 and 1998? It grew\n",
    "\n",
    "2) what about individual 29 ? the tree died for dbh -1"
   ]
  },
  {
   "cell_type": "markdown",
   "metadata": {},
   "source": [
    "**Given your knowledge, brainstorm questions to answer with the data?**\n",
    "we could determine at which locations(x and y) species were more likely to grow \n",
    "\n",
    "compare/measure growth rate for different years\n",
    "\n",
    "which species may have the highest rate of growth"
   ]
  },
  {
   "cell_type": "markdown",
   "metadata": {},
   "source": [
    "**Questions**\n",
    "\n",
    "1) Which genus is most species-rich? piper\n",
    "\n",
    "sed 's/\\s/,/g' cocolisp.txt | cut -d \",\" -f 2 | sort|uniq -c | sort -n\n",
    "\n",
    "2)How many genera have just one species? 99\n",
    "\n",
    "sed 's/\\s/,/g' cocolisp.txt | cut -d \",\" -f 2 | sort|uniq -c|sort -n|grep -w \"1\"| wc -l\n",
    "\n",
    "3) How many genera are there? 127\n",
    "\n",
    "sed 's/\\s/,/g' cocolisp.txt | cut -d \",\" -f 2 | sort|uniq -c| sed 's/\\s/,/g' cocolisp.txt | cut -d \",\" -f 2 | sort|uniq|wc -l\n",
    "\n",
    "\n"
   ]
  },
  {
   "cell_type": "markdown",
   "metadata": {},
   "source": [
    "#### Calculate Relative Growth Rate"
   ]
  },
  {
   "cell_type": "code",
   "execution_count": null,
   "metadata": {
    "collapsed": true
   },
   "outputs": [],
   "source": [
    "#import and open file cocoli.txt\n",
    "#calculate yearly growth rate\n"
   ]
  }
 ],
 "metadata": {
  "anaconda-cloud": {},
  "kernelspec": {
   "display_name": "Python [conda root]",
   "language": "python",
   "name": "conda-root-py"
  },
  "language_info": {
   "codemirror_mode": {
    "name": "ipython",
    "version": 3
   },
   "file_extension": ".py",
   "mimetype": "text/x-python",
   "name": "python",
   "nbconvert_exporter": "python",
   "pygments_lexer": "ipython3",
   "version": "3.5.2"
  }
 },
 "nbformat": 4,
 "nbformat_minor": 2
}
