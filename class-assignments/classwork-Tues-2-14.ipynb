{
 "cells": [
  {
   "cell_type": "markdown",
   "metadata": {},
   "source": [
    "# Functions\n",
    "\n",
    "-python has some built in functions already such as to:\n",
    "make lower case \".lower()\""
   ]
  },
  {
   "cell_type": "code",
   "execution_count": 5,
   "metadata": {
    "collapsed": false,
    "scrolled": true
   },
   "outputs": [
    {
     "data": {
      "text/plain": [
       "'GGtCt'"
      ]
     },
     "execution_count": 5,
     "metadata": {},
     "output_type": "execute_result"
    }
   ],
   "source": [
    "seq = \"ATCTTCT\"\n",
    "seq2=\"GGTCT\"\n",
    "\n",
    "seq=seq.replace(\"A\", \"a\")\n",
    "seq=seq.replace(\"T\", \"t\")\n",
    "seq2=seq2.replace(\"T\", \"t\")\n",
    "seq2"
   ]
  },
  {
   "cell_type": "code",
   "execution_count": 8,
   "metadata": {
    "collapsed": true
   },
   "outputs": [],
   "source": [
    "def greet():\n",
    "    print(\"Welcome!\")\n",
    "    print(\"This functions takes no arguments\")"
   ]
  },
  {
   "cell_type": "code",
   "execution_count": 9,
   "metadata": {
    "collapsed": false
   },
   "outputs": [
    {
     "name": "stdout",
     "output_type": "stream",
     "text": [
      "Welcome!\n",
      "This functions takes no arguments\n"
     ]
    }
   ],
   "source": [
    "greet() #() tells python to execute the function"
   ]
  },
  {
   "cell_type": "code",
   "execution_count": 21,
   "metadata": {
    "collapsed": false
   },
   "outputs": [],
   "source": [
    "def stringAnalyzer(ss):\n",
    "    length=len(ss)\n",
    "    yy=26\n",
    "    zz=yy + length\n",
    "    print(\"This string has {} characters\".format(length))\n",
    "    return zz #this will give back the value of zz"
   ]
  },
  {
   "cell_type": "code",
   "execution_count": 22,
   "metadata": {
    "collapsed": false
   },
   "outputs": [
    {
     "name": "stdout",
     "output_type": "stream",
     "text": [
      "This string has 7 characters\n"
     ]
    },
    {
     "data": {
      "text/plain": [
       "33"
      ]
     },
     "execution_count": 22,
     "metadata": {},
     "output_type": "execute_result"
    }
   ],
   "source": [
    "stringAnalyzer(seq)"
   ]
  },
  {
   "cell_type": "code",
   "execution_count": 33,
   "metadata": {
    "collapsed": true
   },
   "outputs": [],
   "source": [
    "seq=\"ATTCGTTAT\"\n",
    "def get_at_content(dna):\n",
    "    dna=dna.upper() #make everything uppercase first\n",
    "    length=len(dna)\n",
    "    a_count=dna.count('A') + dna.count('a') #add the second part to cdo both upper and lowercase\n",
    "    t_count=dna.count('T')\n",
    "    at_content=(a_count + t_count) / length\n",
    "    return at_content"
   ]
  },
  {
   "cell_type": "markdown",
   "metadata": {},
   "source": [
    "Is it working?\n",
    "dna is the string, get_at_content is name"
   ]
  },
  {
   "cell_type": "code",
   "execution_count": 34,
   "metadata": {
    "collapsed": false
   },
   "outputs": [
    {
     "name": "stdout",
     "output_type": "stream",
     "text": [
      "1.0\n"
     ]
    }
   ],
   "source": [
    "print(get_at_content(\"ATATATAT\"))"
   ]
  },
  {
   "cell_type": "code",
   "execution_count": 35,
   "metadata": {
    "collapsed": false
   },
   "outputs": [
    {
     "name": "stdout",
     "output_type": "stream",
     "text": [
      "0.6470588235294118\n"
     ]
    }
   ],
   "source": [
    "print(get_at_content(\"AAAGCAACGCTACTAAT\"))"
   ]
  },
  {
   "cell_type": "code",
   "execution_count": 36,
   "metadata": {
    "collapsed": false
   },
   "outputs": [
    {
     "name": "stdout",
     "output_type": "stream",
     "text": [
      "0.5\n"
     ]
    }
   ],
   "source": [
    "print(get_at_content(\"aactgtagctagctagcagc\"))"
   ]
  },
  {
   "cell_type": "code",
   "execution_count": 54,
   "metadata": {
    "collapsed": true
   },
   "outputs": [],
   "source": [
    "seq=\"ATTCTTAT\"\n",
    "#write a loop to count all the bases\n",
    "def base_counter(dna):\n",
    "    for letter in [\"A\", \"T\", \"C\", \"G\"]:\n",
    "        letter_count=dna.upper().count(letter)\n",
    "        print(letter + \"=\" + str(letter_count))"
   ]
  },
  {
   "cell_type": "code",
   "execution_count": 55,
   "metadata": {
    "collapsed": false
   },
   "outputs": [
    {
     "name": "stdout",
     "output_type": "stream",
     "text": [
      "A=1\n",
      "T=1\n",
      "C=1\n",
      "G=2\n"
     ]
    }
   ],
   "source": [
    "base_counter(\"ATCGG\")"
   ]
  },
  {
   "cell_type": "code",
   "execution_count": 70,
   "metadata": {
    "collapsed": false
   },
   "outputs": [],
   "source": [
    "def base_counter(dna):\n",
    "    base_dict={} #dictionary will hold my counts; we will populate it with keys and their counts as values\n",
    "    for letter in [\"A\", \"T\", \"G\", \"C\"]:\n",
    "        letter_count=dna.upper().count(letter)\n",
    "        base_dict[letter]= letter_count\n",
    "        #print(letter + \"=\" + str(letter_count))\n",
    "    return base_dict\n",
    "\n",
    "dd=base_counter(seq)"
   ]
  },
  {
   "cell_type": "code",
   "execution_count": 71,
   "metadata": {
    "collapsed": false
   },
   "outputs": [
    {
     "data": {
      "text/plain": [
       "dict_keys(['G', 'T', 'A', 'C'])"
      ]
     },
     "execution_count": 71,
     "metadata": {},
     "output_type": "execute_result"
    }
   ],
   "source": [
    "dd.keys()"
   ]
  },
  {
   "cell_type": "code",
   "execution_count": 72,
   "metadata": {
    "collapsed": false
   },
   "outputs": [
    {
     "data": {
      "text/plain": [
       "{'A': 2, 'C': 1, 'G': 0, 'T': 5}"
      ]
     },
     "execution_count": 72,
     "metadata": {},
     "output_type": "execute_result"
    }
   ],
   "source": [
    "base_counter(seq) #gives me the counts in the dictionary"
   ]
  },
  {
   "cell_type": "markdown",
   "metadata": {},
   "source": [
    "#### \"Round\" function\n",
    "    got back to get_at_content function\n",
    "   "
   ]
  },
  {
   "cell_type": "code",
   "execution_count": 111,
   "metadata": {
    "collapsed": false
   },
   "outputs": [],
   "source": [
    "seq=\"ATTCGTTAT\"\n",
    "def get_at_content(dna, sigfig):\n",
    "    dna_list=[]\n",
    "    dna=dna.upper() \n",
    "    length=len(dna)\n",
    "    a_count=dna.count('A')\n",
    "    t_count=dna.count('T')\n",
    "    at_content=(a_count + t_count) / length\n",
    "    dna_list.append(length)\n",
    "    dna_list.append(a_count)\n",
    "    dna_list.append(t_count)\n",
    "    dna_list.append(round(at_content, sigfig))\n",
    "    return dna_list\n",
    "\n",
    "#could also have made dna_list=[length, a_count, t_count, at_content]"
   ]
  },
  {
   "cell_type": "code",
   "execution_count": 112,
   "metadata": {
    "collapsed": false
   },
   "outputs": [
    {
     "data": {
      "text/plain": [
       "[9, 2, 5, 0.77778]"
      ]
     },
     "execution_count": 112,
     "metadata": {},
     "output_type": "execute_result"
    }
   ],
   "source": [
    "get_at_content(seq, 5) #this value has been rounded\n",
    "#how do we bring a_count out past the function? we need to return it and asign it a new name\n",
    "#we add the second argument to pass to the function telling it how many digits to round to"
   ]
  },
  {
   "cell_type": "code",
   "execution_count": 115,
   "metadata": {
    "collapsed": false
   },
   "outputs": [],
   "source": [
    "results=get_at_content(seq, 5) #now we have saved the output"
   ]
  },
  {
   "cell_type": "code",
   "execution_count": 116,
   "metadata": {
    "collapsed": false
   },
   "outputs": [
    {
     "data": {
      "text/plain": [
       "5"
      ]
     },
     "execution_count": 116,
     "metadata": {},
     "output_type": "execute_result"
    }
   ],
   "source": [
    "results[2] #gives me the 3rd value of the list"
   ]
  },
  {
   "cell_type": "code",
   "execution_count": null,
   "metadata": {
    "collapsed": true
   },
   "outputs": [],
   "source": []
  }
 ],
 "metadata": {
  "anaconda-cloud": {},
  "kernelspec": {
   "display_name": "Python [conda root]",
   "language": "python",
   "name": "conda-root-py"
  },
  "language_info": {
   "codemirror_mode": {
    "name": "ipython",
    "version": 3
   },
   "file_extension": ".py",
   "mimetype": "text/x-python",
   "name": "python",
   "nbconvert_exporter": "python",
   "pygments_lexer": "ipython3",
   "version": "3.5.2"
  }
 },
 "nbformat": 4,
 "nbformat_minor": 2
}
