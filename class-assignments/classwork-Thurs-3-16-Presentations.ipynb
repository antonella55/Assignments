{
 "cells": [
  {
   "cell_type": "markdown",
   "metadata": {},
   "source": [
    "# Thursday Presentations\n",
    "\n",
    "\n",
    "09:34 Justin Shieh--does changing brain size influence speciation\n",
    "\n",
    "09:38 Sarah Kim--canis fossil-how is there so much existing diversity\n",
    "\n",
    "09:42 Christina Zhou--Bats- 1,300 species alive today!\n",
    "\n",
    "09:46 Gayane Hovsepyan--Autism DaTa-why is there a gap in noticing the autism symptoms\n",
    "\n",
    "09:50 Roxana Nojoumi--Horse Family-does it show how american species dissapeared at one point until reintroduced from europe\n",
    "\n",
    "09:54 Cooper Kass--Seagrass-what would be the rapid evolution for dispersal\n",
    "\n",
    "09:58 Jeffrey Lee--canidae family-\n",
    "\n",
    "10:02 Laura Trejo--Neotropical Birds-\n",
    "\n",
    "10:06 Jin Kim--Aves-what could contribute to longer existence-\n",
    "\n",
    "10:10 Marina Salama--Anura(frogs)-do you know if that gap in extinction be correlated to a mass extinction event\n",
    "\n",
    "10:14 Erin Solis--Heteromyidae Family-becoming extinct from habitat loss?\n",
    "\n",
    "10:18 Sean Mathew--Felidae-it was really cool to show the gif that gives a nice depiction of location occurence\n",
    "\n",
    "10:22 Tiffany Dang--carniverous mammals-what could have caused the rapid loss?"
   ]
  }
 ],
 "metadata": {
  "anaconda-cloud": {},
  "kernelspec": {
   "display_name": "Python [conda root]",
   "language": "python",
   "name": "conda-root-py"
  },
  "language_info": {
   "codemirror_mode": {
    "name": "ipython",
    "version": 3
   },
   "file_extension": ".py",
   "mimetype": "text/x-python",
   "name": "python",
   "nbconvert_exporter": "python",
   "pygments_lexer": "ipython3",
   "version": "3.5.2"
  }
 },
 "nbformat": 4,
 "nbformat_minor": 2
}
