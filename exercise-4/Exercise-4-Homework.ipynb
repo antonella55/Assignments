{
 "cells": [
  {
   "cell_type": "code",
   "execution_count": null,
   "metadata": {
    "collapsed": true
   },
   "outputs": [],
   "source": [
    "#Homework\n",
    "\n",
    "    #Write a for-loop that prints out the numbers from 100 to 110.\n",
    "\n",
    "    #Write a while- loop that prints out the numbers from 100 to 110.\n",
    "\n",
    "    #Write a loop that prints out the squares of the numbers from 10-15. This can be a for or a while loop.\n",
    "\n",
    "    #Write a loop that iterates over the list [\"Scooby\", \"Shaggy\", \"Velma\", \"Daphne\", \"Fred\"] and for\n",
    "    #each character prints the statement \"XXX is a character in that most glorious of cartoons, Scooby Doo\".\n",
    "\n",
    "    #Write a function that meets the following criteria:\n",
    "#1. The function must be named \"fact_or_sum\"   \n",
    "#2. The function must take in one input, which must be an integer. If the user inputs a string, the function\n",
    "#should return an error message.\n",
    "#3. If the input integer is 0, the function returns the number 0.  \n",
    "#4. If the input integer is an odd number, the function returns the factorial of the number. \n",
    "#4a. A factorial is computed as the product of a number and each integer below that number, \n",
    "#until 1 (e.g. n*(n-1)*(n-2)...*1)\n",
    "#5. The factorial MUST be computed with a for loop. \n",
    "#6. If the input integer is an even number, the function returns the sum of that number and all numbers below it,\n",
    "#until 1 (e.g. n+(n-1)+(n-2)...+1).\n",
    "#6a. The sum must be computed with a while loop."
   ]
  },
  {
   "cell_type": "code",
   "execution_count": 105,
   "metadata": {
    "collapsed": false
   },
   "outputs": [
    {
     "name": "stdout",
     "output_type": "stream",
     "text": [
      "[100, 101, 102, 103, 104, 105, 106, 107, 108, 109, 110]\n"
     ]
    }
   ],
   "source": [
    "#for loop for numbers 100-110\n",
    "list = []\n",
    "\n",
    "for number in (range(100,111)):\n",
    "    list.append(number)\n",
    "    number=number+1\n",
    "    \n",
    "print(list)"
   ]
  },
  {
   "cell_type": "code",
   "execution_count": 106,
   "metadata": {
    "collapsed": false
   },
   "outputs": [
    {
     "name": "stdout",
     "output_type": "stream",
     "text": [
      "[100, 101, 102, 103, 104, 105, 106, 107, 108, 109, 110]\n"
     ]
    }
   ],
   "source": [
    "#while loop for numbers 100-110\n",
    "list = []\n",
    "number=100\n",
    "while number < 111:\n",
    "    list.append(number)\n",
    "    number=number+1\n",
    "    \n",
    "print(list)\n"
   ]
  },
  {
   "cell_type": "code",
   "execution_count": 107,
   "metadata": {
    "collapsed": false
   },
   "outputs": [
    {
     "name": "stdout",
     "output_type": "stream",
     "text": [
      "[100, 121, 144, 169, 196, 225]\n"
     ]
    }
   ],
   "source": [
    "#loop for squares of 10-15\n",
    "list = []\n",
    "for number in (range(10,16)):\n",
    "    square=number**2\n",
    "    list.append(square)\n",
    "    \n",
    "print(list)"
   ]
  },
  {
   "cell_type": "code",
   "execution_count": 108,
   "metadata": {
    "collapsed": false,
    "scrolled": true
   },
   "outputs": [
    {
     "name": "stdout",
     "output_type": "stream",
     "text": [
      "Scoobyis a character in that most glorious of cartoons, Scooby Doo\n",
      "Shaggyis a character in that most glorious of cartoons, Scooby Doo\n",
      "Velmais a character in that most glorious of cartoons, Scooby Doo\n",
      "Daphneis a character in that most glorious of cartoons, Scooby Doo\n",
      "Fredis a character in that most glorious of cartoons, Scooby Doo\n"
     ]
    }
   ],
   "source": [
    "list = [\"Scooby\", \"Shaggy\", \"Velma\", \"Daphne\", \"Fred\"]\n",
    "for name in list:\n",
    "    print(name + \"is a character in that most glorious of cartoons, Scooby Doo\")"
   ]
  },
  {
   "cell_type": "markdown",
   "metadata": {},
   "source": [
    "Write a function that meets the following criteria:\n",
    "\n",
    "The function must be named \"fact_or_sum\"\n",
    "The function must take in one input, which must be an integer. If the user inputs a string, the function should return an error message.\n",
    "If the input integer is 0, the function returns the number 0.\n",
    "If the input integer is an odd number, the function returns the factorial of the number. 4a. A factorial is computed as the product of a number and each integer below that number, until 1 (e.g. n(n-1)(n-2)...*1)\n",
    "The factorial MUST be computed with a for loop.\n",
    "If the input integer is an even number, the function returns the sum of that number and all numbers below it, #until 1 (e.g. n+(n-1)+(n-2)...+1). #6a. The sum must be computed with a while loop.\n",
    "\n"
   ]
  },
  {
   "cell_type": "code",
   "execution_count": 99,
   "metadata": {
    "collapsed": false
   },
   "outputs": [
    {
     "name": "stdout",
     "output_type": "stream",
     "text": [
      "10\n"
     ]
    }
   ],
   "source": [
    "def fact_or_sum(integer):\n",
    "    if(integer%2!=0):\n",
    "        factorial=1\n",
    "        for number in (range(1,integer+1)):\n",
    "            factorial=factorial*number  \n",
    "        print(factorial)\n",
    "    elif(integer%2==0):\n",
    "        sum=0\n",
    "        while integer>0:\n",
    "            sum=sum+integer\n",
    "            integer=integer-1\n",
    "        print(sum)\n",
    "    elif(integer==0):\n",
    "        return(integer)\n",
    "    elif(integer==str):\n",
    "        return(\"error not an integer\")\n",
    "    \n",
    "fact_or_sum(4)"
   ]
  },
  {
   "cell_type": "code",
   "execution_count": 100,
   "metadata": {
    "collapsed": false
   },
   "outputs": [
    {
     "name": "stdout",
     "output_type": "stream",
     "text": [
      "0\n"
     ]
    }
   ],
   "source": [
    "fact_or_sum(0)"
   ]
  },
  {
   "cell_type": "code",
   "execution_count": 101,
   "metadata": {
    "collapsed": false
   },
   "outputs": [
    {
     "name": "stdout",
     "output_type": "stream",
     "text": [
      "120\n"
     ]
    }
   ],
   "source": [
    "fact_or_sum(5)"
   ]
  },
  {
   "cell_type": "code",
   "execution_count": 104,
   "metadata": {
    "collapsed": false
   },
   "outputs": [
    {
     "ename": "NameError",
     "evalue": "name 'aj' is not defined",
     "output_type": "error",
     "traceback": [
      "\u001b[0;31m---------------------------------------------------------------------------\u001b[0m",
      "\u001b[0;31mNameError\u001b[0m                                 Traceback (most recent call last)",
      "\u001b[0;32m<ipython-input-104-23a5d41b5ce5>\u001b[0m in \u001b[0;36m<module>\u001b[0;34m()\u001b[0m\n\u001b[0;32m----> 1\u001b[0;31m \u001b[0mfact_or_sum\u001b[0m\u001b[0;34m(\u001b[0m\u001b[0maj\u001b[0m\u001b[0;34m)\u001b[0m\u001b[0;34m\u001b[0m\u001b[0m\n\u001b[0m",
      "\u001b[0;31mNameError\u001b[0m: name 'aj' is not defined"
     ]
    }
   ],
   "source": [
    "fact_or_sum(aj)"
   ]
  }
 ],
 "metadata": {
  "anaconda-cloud": {},
  "kernelspec": {
   "display_name": "Python [conda root]",
   "language": "python",
   "name": "conda-root-py"
  },
  "language_info": {
   "codemirror_mode": {
    "name": "ipython",
    "version": 3
   },
   "file_extension": ".py",
   "mimetype": "text/x-python",
   "name": "python",
   "nbconvert_exporter": "python",
   "pygments_lexer": "ipython3",
   "version": "3.5.2"
  }
 },
 "nbformat": 4,
 "nbformat_minor": 2
}
