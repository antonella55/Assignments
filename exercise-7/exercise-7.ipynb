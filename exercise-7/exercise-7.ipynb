{
 "cells": [
  {
   "cell_type": "markdown",
   "metadata": {},
   "source": [
    "# Rainforest data set\n",
    "\n",
    "We will start by building a dictionary of dbh at each census\n",
    "\n",
    "iterate through each line using for loop and extract dbh\n",
    "\n",
    "tag is in 0 position and dbh at 4,5,6\n",
    "\n",
    "**we can't assume that the order of all the trees is the same in each dictionary... make a for loop instead**"
   ]
  },
  {
   "cell_type": "code",
   "execution_count": 1,
   "metadata": {
    "collapsed": false
   },
   "outputs": [],
   "source": [
    "in_file = open (\"cocoli.txt\")\n",
    "\n",
    "sizes_94 = {}\n",
    "sizes_97 = {}\n",
    "sizes_98 = {}\n",
    "\n",
    "#get rid of header row\n",
    "in_file.readline()\n",
    "\n",
    "for line in in_file:\n",
    "    items = line.split()\n",
    "    \n",
    "    tree_id = items[0]\n",
    "    #retrieve relevant columns\n",
    "    s94 = float(items[4]) #float() will make this value into a number that can be manipulated mathematically\n",
    "    s97 = float(items[5])\n",
    "    s98 = float(items[6])\n",
    "    \n",
    "    #populate our dictionaries\n",
    "    sizes_94[tree_id] = s94\n",
    "    sizes_97[tree_id] = s97\n",
    "    sizes_98[tree_id] = s98\n",
    "    \n",
    "in_file.close()\n",
    "    "
   ]
  },
  {
   "cell_type": "code",
   "execution_count": 2,
   "metadata": {
    "collapsed": false
   },
   "outputs": [
    {
     "data": {
      "text/plain": [
       "'these values are being interpreted as strings and we need them to be interpreted as integers!!!\\nalso we have included the header as a key:value pair'"
      ]
     },
     "execution_count": 2,
     "metadata": {},
     "output_type": "execute_result"
    }
   ],
   "source": [
    "#sizes_94 \n",
    "\"\"\"these values are being interpreted as strings and we need them to be interpreted as integers!!!\n",
    "also we have included the header as a key:value pair\"\"\""
   ]
  },
  {
   "cell_type": "code",
   "execution_count": 3,
   "metadata": {
    "collapsed": false
   },
   "outputs": [
    {
     "data": {
      "text/plain": [
       "float"
      ]
     },
     "execution_count": 3,
     "metadata": {},
     "output_type": "execute_result"
    }
   ],
   "source": [
    "type(sizes_94[\"008211\"])"
   ]
  },
  {
   "cell_type": "markdown",
   "metadata": {},
   "source": [
    "### now we have made 3 dictionaries; how can we visualize all the data?\n",
    " \n",
    " import library to make plots in python and take pyplot function and name it plt"
   ]
  },
  {
   "cell_type": "code",
   "execution_count": 4,
   "metadata": {
    "collapsed": false
   },
   "outputs": [],
   "source": [
    "import matplotlib.pyplot as plt"
   ]
  },
  {
   "cell_type": "code",
   "execution_count": 6,
   "metadata": {
    "collapsed": true
   },
   "outputs": [],
   "source": [
    "# lets make a histogram of dbhs in 1994\n",
    "#matplotlib works on lists, \n",
    "\n",
    "sizes_in_1994 = list(sizes_94.values())"
   ]
  },
  {
   "cell_type": "code",
   "execution_count": 20,
   "metadata": {
    "collapsed": false
   },
   "outputs": [
    {
     "data": {
      "image/png": "[encoded data removed]",
      "text/plain": [
       "<matplotlib.figure.Figure at 0x7f59d0b72eb8>"
      ]
     },
     "metadata": {},
     "output_type": "display_data"
    }
   ],
   "source": [
    "plt.hist(sizes_in_1994, log = True)\n",
    "plt.show()"
   ]
  },
  {
   "cell_type": "markdown",
   "metadata": {},
   "source": [
    "so we can see that there is info shown but its really hard to visualize from the skewed distribution\n",
    "\n",
    "lets use the log ploting of it to fix skew...compressing the scale \",log = True\"\n",
    "\n",
    "**Now lets compare btwn years"
   ]
  },
  {
   "cell_type": "code",
   "execution_count": 11,
   "metadata": {
    "collapsed": false
   },
   "outputs": [
    {
     "data": {
      "image/png": "[encoded data removed]",
      "text/plain": [
       "<matplotlib.figure.Figure at 0x7f59d8b2fa58>"
      ]
     },
     "metadata": {},
     "output_type": "display_data"
    },
    {
     "data": {
      "image/png": "[encoded data removed]",
      "text/plain": [
       "<matplotlib.figure.Figure at 0x7f59d8a29b00>"
      ]
     },
     "metadata": {},
     "output_type": "display_data"
    },
    {
     "data": {
      "image/png": "[encoded data removed]",
      "text/plain": [
       "<matplotlib.figure.Figure at 0x7f59d3b03fd0>"
      ]
     },
     "metadata": {},
     "output_type": "display_data"
    }
   ],
   "source": [
    "sizes_in_1994 = list(sizes_94.values())\n",
    "sizes_in_1998 = list(sizes_98.values())\n",
    "\n",
    "f, (ax1, ax2) = plt.subplots(1, 2,sharex = True) #1 row across and 2 colunmns? sharex is saying for both plots\n",
    "#use the same axis so we can visually compare data\n",
    "ax1.hist(sizes_in_1994, log = True)\n",
    "ax1.set_title('Hist in 1994')\n",
    "ax2.hist(sizes_in_1998, log = True)\n",
    "ax2.set_title('Hist in 1998')\n",
    "plt.show()"
   ]
  },
  {
   "cell_type": "markdown",
   "metadata": {},
   "source": [
    "**looks like some of the big trees died**\n",
    "but these are false and skewed since we have -2 and -1 dbh values; we have lots of -2 in 94 and -1s in 98\n",
    "### So we need to get rid of the -2s from 94 and the -2s and -1s in 98 = List Comprehension\n",
    "\n",
    "since a for loop will take too long we dont do that (if dbh > 0 ...)"
   ]
  },
  {
   "cell_type": "code",
   "execution_count": 14,
   "metadata": {
    "collapsed": false
   },
   "outputs": [
    {
     "data": {
      "text/plain": [
       "'for each value in 1994 if the value is not -2, then return value; \\n: is saying put this value in to the list if it was returned'"
      ]
     },
     "execution_count": 14,
     "metadata": {},
     "output_type": "execute_result"
    }
   ],
   "source": [
    "sizes_in_1994[:] = (value for value in sizes_in_1994 if value != -2) \n",
    "\"\"\"for each value in 1994 if the value is not -2, then return value; \n",
    ": is saying put this value in to the list if it was returned\"\"\""
   ]
  },
  {
   "cell_type": "code",
   "execution_count": 17,
   "metadata": {
    "collapsed": false
   },
   "outputs": [
    {
     "data": {
      "image/png": "[encoded data removed]",
      "text/plain": [
       "<matplotlib.figure.Figure at 0x7f59d0c5fa58>"
      ]
     },
     "metadata": {},
     "output_type": "display_data"
    }
   ],
   "source": [
    "plt.hist(sizes_in_1994, log = False)\n",
    "plt.show()"
   ]
  },
  {
   "cell_type": "markdown",
   "metadata": {},
   "source": [
    "#### What are corelations btwn 94 and 97? How often do I get a shrink?\n",
    "\n",
    "plot size in 1994 against 1997 and if they are below 1:1 line there is a problem, do a \n",
    "\n",
    "## Scatter Plot \n",
    " lets bring back the -2s"
   ]
  },
  {
   "cell_type": "code",
   "execution_count": 18,
   "metadata": {
    "collapsed": false
   },
   "outputs": [
    {
     "data": {
      "image/png": "[encoded data removed]",
      "text/plain": [
       "<matplotlib.figure.Figure at 0x7f59d0ba1f60>"
      ]
     },
     "metadata": {},
     "output_type": "display_data"
    }
   ],
   "source": [
    "sizes_in_1994 = list(sizes_94.values())\n",
    "sizes_in_1998 = list(sizes_98.values())\n",
    "\n",
    "#if you forget how to make a plot just google matplotlib and tutorial\n",
    "plt.plot(sizes_in_1994, sizes_in_1998, 'ro') # r=red and o=point and 94 data is on x-axis 98 is on y-axis\n",
    "plt.show()"
   ]
  },
  {
   "cell_type": "markdown",
   "metadata": {},
   "source": [
    "**So for the most part things grew!!!\n",
    "the bottom represents the dead trees**"
   ]
  },
  {
   "cell_type": "code",
   "execution_count": null,
   "metadata": {
    "collapsed": true
   },
   "outputs": [],
   "source": []
  }
 ],
 "metadata": {
  "anaconda-cloud": {},
  "kernelspec": {
   "display_name": "Python [conda root]",
   "language": "python",
   "name": "conda-root-py"
  },
  "language_info": {
   "codemirror_mode": {
    "name": "ipython",
    "version": 3
   },
   "file_extension": ".py",
   "mimetype": "text/x-python",
   "name": "python",
   "nbconvert_exporter": "python",
   "pygments_lexer": "ipython3",
   "version": "3.5.2"
  }
 },
 "nbformat": 4,
 "nbformat_minor": 2
}
