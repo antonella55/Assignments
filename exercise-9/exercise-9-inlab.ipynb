{
 "cells": [
  {
   "cell_type": "markdown",
   "metadata": {},
   "source": [
    "# Explore the canid data set\n",
    "\n",
    "1) How many fossils are included in the data set?  **2946**\n",
    "\n",
    "2) How many fossils have been identified to genus level only?  **607 not including subgenus**\n",
    "\n",
    "  How many to species level? **2106**\n",
    "  \n",
    "3) How many unique accepted names are part of this database? **211*"
   ]
  },
  {
   "cell_type": "markdown",
   "metadata": {},
   "source": [
    "# PyRate\n",
    "\n",
    "1) How can we change the sampling frequency of our PyRate runs? **using the -s 1000 command**\n",
    "\n",
    "2) What does the -n flag achieve? **mcmc generations**"
   ]
  },
  {
   "cell_type": "code",
   "execution_count": null,
   "metadata": {
    "collapsed": true
   },
   "outputs": [],
   "source": []
  }
 ],
 "metadata": {
  "anaconda-cloud": {},
  "kernelspec": {
   "display_name": "Python [conda root]",
   "language": "python",
   "name": "conda-root-py"
  },
  "language_info": {
   "codemirror_mode": {
    "name": "ipython",
    "version": 3
   },
   "file_extension": ".py",
   "mimetype": "text/x-python",
   "name": "python",
   "nbconvert_exporter": "python",
   "pygments_lexer": "ipython3",
   "version": "3.5.2"
  }
 },
 "nbformat": 4,
 "nbformat_minor": 2
}
