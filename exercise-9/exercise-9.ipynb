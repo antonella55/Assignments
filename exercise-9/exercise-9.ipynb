{
 "cells": [
  {
   "cell_type": "markdown",
   "metadata": {},
   "source": [
    "# Explore the canid data set\n",
    "\n",
    "1) How many fossils are included in the data set?  **2946**\n",
    "\n",
    "2) How many fossils have been identified to genus level only?  **607 not including subgenus**\n",
    "\n",
    "  How many to species level? **2106**\n",
    "  \n",
    "3) How many unique accepted names are part of this database? **211*"
   ]
  },
  {
   "cell_type": "markdown",
   "metadata": {},
   "source": [
    "# PyRate\n",
    "\n",
    "1) How can we change the sampling frequency of our PyRate runs? **using the -s 1000 command**\n",
    "\n",
    "2) What does the -n flag achieve? **mcmc generations**"
   ]
  },
  {
   "cell_type": "markdown",
   "metadata": {
    "collapsed": true
   },
   "source": [
    "## Out-put file summaries\n",
    "\n",
    "**canid_occ_1_marginal_rates.log** : Tab-separated table with the posterior samples of the marginal rates of speciation, extinction, and net diversification, calculated within 1 time unit (typically Myr).\n",
    "\n",
    "**canid_occ_1_mcmc.log**: Tab-separated table with the MCMC samples of the posterior, prior, likelihoods of the preservation process and of the birth-death (indicated by PP_lik and BD_lik, respectively), the preservation rate (q_rate), the shape parameter of its gamma-distributed heterogeneity (alpha), the number of sampled rate shifts (k_birth, k_death), the time of origin of the oldest lineage (root_age), the total branch length (tot_length), and the times of speciation and extinction of all taxa in the data set (*_TS and *_TE, respectively). When using the TPP model of preservation, the preservation rates between shifts are indicated as q_0, q_1, ... q_n (from older to younger).\n",
    "\n",
    "**canid_occ_1_sum.txt**: Text file providing the complete list of settings used in the analysis."
   ]
  },
  {
   "cell_type": "markdown",
   "metadata": {
    "collapsed": true
   },
   "source": [
    "** a.Describe the changes in Speciation rates across the Canidae lineage.**\n",
    "Speciation rates were always positive in this lineage data, at its max-ma the speciation rate was about 0.25 and slightly increasing, then at 31Ma it took a sudden drop to 0.17 and continued to drop until around 9Ma down to 0.1. Since about 8Ma the speciation rate has increased sharply and then plateaud at around 0.25 again.\n",
    "\n",
    "**b.Describe the changes in Extinction rates across the Canidae lineage.**\n",
    "The extinction rates do not change as much as the speciation rates. from about 50Ma to 2Ma the extinction rate was pretty constant at about 0.15 then around 2Ma the extinction rate sharply increased to above 1.0 and has been there since.\n",
    "\n",
    "**c.Describe the changes in Diversification rates across the Canidae lineage.**\n",
    "Diversification rates 50Ma were actually positive (~0.2) and they slightly increase for about 5Ma between 40 to 30 Ma but then slowly began a downward trend. Since about 2Ma the diversification rate has plummited to near -1.0 meaning there are less new canid species being created."
   ]
  },
  {
   "cell_type": "markdown",
   "metadata": {},
   "source": [
    "# Homework-2500000 runs\n",
    "\n",
    "As of right now it has been a full night and pyrate is still not done with running the simulations, it is at 1335000 therefore I will predict what the differences between these speciation/extinction and diversification plots will be compared to the previous pyrate run. I think that there will be less areas where the rates appear to be constant and instead I will be able to see a better representation of the rate trends."
   ]
  },
  {
   "cell_type": "code",
   "execution_count": null,
   "metadata": {
    "collapsed": true
   },
   "outputs": [],
   "source": []
  }
 ],
 "metadata": {
  "anaconda-cloud": {},
  "kernelspec": {
   "display_name": "Python [conda root]",
   "language": "python",
   "name": "conda-root-py"
  },
  "language_info": {
   "codemirror_mode": {
    "name": "ipython",
    "version": 3
   },
   "file_extension": ".py",
   "mimetype": "text/x-python",
   "name": "python",
   "nbconvert_exporter": "python",
   "pygments_lexer": "ipython3",
   "version": "3.5.2"
  }
 },
 "nbformat": 4,
 "nbformat_minor": 2
}
